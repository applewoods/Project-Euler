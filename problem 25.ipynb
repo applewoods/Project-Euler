{
 "cells": [
  {
   "cell_type": "code",
   "execution_count": 1,
   "metadata": {},
   "outputs": [],
   "source": [
    "def fibonacci(num1, num2):\n",
    "    num = num1 + num2\n",
    "    return num"
   ]
  },
  {
   "cell_type": "code",
   "execution_count": 2,
   "metadata": {},
   "outputs": [
    {
     "name": "stdout",
     "output_type": "stream",
     "text": [
      "피보나치 수열에서 값이 처음으로 1000자리가 되는 것은 4782번째 항입니다.\n"
     ]
    }
   ],
   "source": [
    "sequence = [1, 1]\n",
    "fib_num, len_num = 0, 0\n",
    "while len_num != 1000:\n",
    "    fib_num = fibonacci(sequence[-2], sequence[-1])\n",
    "    sequence.append(fib_num)\n",
    "    len_num = len(str(fib_num))\n",
    "print(\"피보나치 수열에서 값이 처음으로 1000자리가 되는 것은 {}번째 항입니다.\".format(len(sequence)))"
   ]
  },
  {
   "cell_type": "code",
   "execution_count": null,
   "metadata": {},
   "outputs": [],
   "source": []
  }
 ],
 "metadata": {
  "kernelspec": {
   "display_name": "Python 3",
   "language": "python",
   "name": "python3"
  },
  "language_info": {
   "codemirror_mode": {
    "name": "ipython",
    "version": 3
   },
   "file_extension": ".py",
   "mimetype": "text/x-python",
   "name": "python",
   "nbconvert_exporter": "python",
   "pygments_lexer": "ipython3",
   "version": "3.8.5"
  }
 },
 "nbformat": 4,
 "nbformat_minor": 4
}
