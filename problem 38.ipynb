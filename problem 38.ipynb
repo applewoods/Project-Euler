{
 "cells": [
  {
   "cell_type": "code",
   "execution_count": 1,
   "metadata": {},
   "outputs": [],
   "source": [
    "import math\n",
    "from IPython.display import clear_output"
   ]
  },
  {
   "cell_type": "code",
   "execution_count": 2,
   "metadata": {},
   "outputs": [],
   "source": [
    "def pandigital(num, mul):\n",
    "    str_num = \"\" \n",
    "    pan = []\n",
    "    for i in range(1, mul+1):\n",
    "        str_num = str_num + str(num*i)\n",
    "    \n",
    "    if len(str_num) == 9:\n",
    "        for n in range(len(str_num)):\n",
    "            nn = str_num[n]\n",
    "            if nn not in pan and int(nn) != 0:\n",
    "                pan.append(nn)\n",
    "            else:\n",
    "                return False, len(str_num), str_num\n",
    "                break\n",
    "        \n",
    "        return True, len(str_num), str_num\n",
    "                \n",
    "    else:\n",
    "        return False, len(str_num), str_num"
   ]
  },
  {
   "cell_type": "code",
   "execution_count": 3,
   "metadata": {},
   "outputs": [
    {
     "name": "stdout",
     "output_type": "stream",
     "text": [
      "가장 큰 아홉자리의 1 ~ 9 팬디지털 수는 932718654\n"
     ]
    }
   ],
   "source": [
    "number = 0\n",
    "for n in range(2, 1000000):\n",
    "    for m in range(2,10):\n",
    "        b, l, s = pandigital(n, m)\n",
    "        if l > 9:\n",
    "            break\n",
    "        elif b:\n",
    "            if number < int(s):\n",
    "                number = int(s)\n",
    "    if n % 1000 == 0:\n",
    "        print(n, number)\n",
    "        clear_output(wait=True)\n",
    "\n",
    "print(\"가장 큰 아홉자리의 1 ~ 9 팬디지털 수는 {}\".format(number))"
   ]
  },
  {
   "cell_type": "code",
   "execution_count": null,
   "metadata": {},
   "outputs": [],
   "source": []
  }
 ],
 "metadata": {
  "kernelspec": {
   "display_name": "Python 3",
   "language": "python",
   "name": "python3"
  },
  "language_info": {
   "codemirror_mode": {
    "name": "ipython",
    "version": 3
   },
   "file_extension": ".py",
   "mimetype": "text/x-python",
   "name": "python",
   "nbconvert_exporter": "python",
   "pygments_lexer": "ipython3",
   "version": "3.8.5"
  }
 },
 "nbformat": 4,
 "nbformat_minor": 4
}
