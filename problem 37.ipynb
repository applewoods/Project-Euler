{
 "cells": [
  {
   "cell_type": "code",
   "execution_count": 1,
   "metadata": {},
   "outputs": [],
   "source": [
    "from IPython.display import clear_output"
   ]
  },
  {
   "cell_type": "code",
   "execution_count": 2,
   "metadata": {},
   "outputs": [],
   "source": [
    "prime = []\n",
    "answer = []\n",
    "number = 2\n",
    "last = 0"
   ]
  },
  {
   "cell_type": "code",
   "execution_count": 3,
   "metadata": {},
   "outputs": [],
   "source": [
    "def prime_number(num):\n",
    "    div_num = 2\n",
    "    while num != 1:        \n",
    "        if num % div_num == 0:\n",
    "            num = num / div_num\n",
    "            if div_num not in prime:\n",
    "                prime.append(div_num)\n",
    "            div_num = 2\n",
    "        else:\n",
    "            div_num += 1"
   ]
  },
  {
   "cell_type": "code",
   "execution_count": 4,
   "metadata": {},
   "outputs": [],
   "source": [
    "def div_number(num):\n",
    "    left_number, right_number = num, num\n",
    "    right, left = True, True\n",
    "    if num in prime:\n",
    "        # 왼쪽에서부터 한자리씩 없애기\n",
    "        left_div = 10**(len(str(num)))\n",
    "        while left_div != 1:\n",
    "            left_number = left_number % left_div\n",
    "            if left_number not in prime:\n",
    "                left = False\n",
    "                break\n",
    "            left_div = left_div // 10\n",
    "\n",
    "        # 오른쪽에서부터 한자리씩 없애기\n",
    "        if left:\n",
    "            right_div = 1\n",
    "            while len(str(right_number)) != 1:\n",
    "                right_number = right_number // right_div\n",
    "                if right_number not in prime:\n",
    "                    right = False\n",
    "                    break\n",
    "                right_div = 10\n",
    "\n",
    "            # 최종 확인\n",
    "            if right:\n",
    "                answer.append(num)"
   ]
  },
  {
   "cell_type": "code",
   "execution_count": 5,
   "metadata": {},
   "outputs": [
    {
     "name": "stdout",
     "output_type": "stream",
     "text": [
      "59400 738317 10 [23, 37, 53, 73, 313, 317, 373, 797, 3137, 3797]\n"
     ]
    }
   ],
   "source": [
    "while len(answer) != 15:\n",
    "    prime_number(number)\n",
    "    \n",
    "    if len(prime) != last:\n",
    "        div_number(prime[-1])\n",
    "        last = len(prime)\n",
    "        \n",
    "    else:    \n",
    "        number += 1\n",
    "        \n",
    "    if last % 100 == 0:    \n",
    "        print(last,number,len(answer)-4,answer[4:])\n",
    "        clear_output(wait=True)"
   ]
  },
  {
   "cell_type": "code",
   "execution_count": 6,
   "metadata": {},
   "outputs": [
    {
     "name": "stdout",
     "output_type": "stream",
     "text": [
      "답: 748317\n"
     ]
    }
   ],
   "source": [
    "hap = 0\n",
    "for n in answer[4:]:\n",
    "    hap += n\n",
    "print(\"답: {}\".format(hap))"
   ]
  },
  {
   "cell_type": "code",
   "execution_count": null,
   "metadata": {},
   "outputs": [],
   "source": []
  }
 ],
 "metadata": {
  "kernelspec": {
   "display_name": "Python 3",
   "language": "python",
   "name": "python3"
  },
  "language_info": {
   "codemirror_mode": {
    "name": "ipython",
    "version": 3
   },
   "file_extension": ".py",
   "mimetype": "text/x-python",
   "name": "python",
   "nbconvert_exporter": "python",
   "pygments_lexer": "ipython3",
   "version": "3.8.5"
  }
 },
 "nbformat": 4,
 "nbformat_minor": 4
}
