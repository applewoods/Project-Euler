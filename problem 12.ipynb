{
 "cells": [
  {
   "cell_type": "code",
   "execution_count": 1,
   "metadata": {},
   "outputs": [],
   "source": [
    "from IPython.display import clear_output"
   ]
  },
  {
   "cell_type": "code",
   "execution_count": 2,
   "metadata": {},
   "outputs": [],
   "source": [
    "def aliquot(num):\n",
    "    ali = []\n",
    "    div_num = 1\n",
    "    count = 0\n",
    "    while True:\n",
    "        if num % div_num == 0:\n",
    "            ali.append(div_num)\n",
    "            ali.append(num//div_num)\n",
    "            \n",
    "        div_num += 1\n",
    "        if div_num in ali:\n",
    "            break\n",
    "        \n",
    "    return len(ali), num, ali"
   ]
  },
  {
   "cell_type": "code",
   "execution_count": 3,
   "metadata": {},
   "outputs": [
    {
     "name": "stdout",
     "output_type": "stream",
     "text": [
      "500개 이상의 약수를 갖는 가장 작은 수는 76576500\n"
     ]
    }
   ],
   "source": [
    "n = 2\n",
    "tri = 1\n",
    "ali_count = 500\n",
    "nn_max = 0\n",
    "number_max = 0\n",
    "while True:\n",
    "    tri = tri + n\n",
    "    nn, number, ali = aliquot(tri)\n",
    "    \n",
    "    if nn >= ali_count:\n",
    "        print(\"{}개 이상의 약수를 갖는 가장 작은 수는 {}\".format(ali_count, number))\n",
    "        break\n",
    "        \n",
    "    elif n % 100 == 0:\n",
    "        if nn_max < nn:\n",
    "            nn_max = nn\n",
    "            number_max = number\n",
    "            print(\"{}개 이상의 약수를 갖는 가장 작은 수 찾는 중...\".format(ali_count))\n",
    "            print(\"약수의 갯수: {}, 숫자: {}\".format(nn_max, number_max))\n",
    "            clear_output(wait=True)\n",
    "        \n",
    "    n = n + 1"
   ]
  },
  {
   "cell_type": "code",
   "execution_count": null,
   "metadata": {},
   "outputs": [],
   "source": []
  }
 ],
 "metadata": {
  "kernelspec": {
   "display_name": "Python 3",
   "language": "python",
   "name": "python3"
  },
  "language_info": {
   "codemirror_mode": {
    "name": "ipython",
    "version": 3
   },
   "file_extension": ".py",
   "mimetype": "text/x-python",
   "name": "python",
   "nbconvert_exporter": "python",
   "pygments_lexer": "ipython3",
   "version": "3.8.5"
  }
 },
 "nbformat": 4,
 "nbformat_minor": 4
}
