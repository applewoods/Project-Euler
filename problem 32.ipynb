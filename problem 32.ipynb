{
 "cells": [
  {
   "cell_type": "code",
   "execution_count": 1,
   "metadata": {},
   "outputs": [],
   "source": [
    "from IPython.display import clear_output"
   ]
  },
  {
   "cell_type": "code",
   "execution_count": 2,
   "metadata": {},
   "outputs": [],
   "source": [
    "def pandigital(a, b):\n",
    "    pan = []\n",
    "    c = str(a*b)\n",
    "    a, b = str(a), str(b)\n",
    "    num = a + b + c\n",
    "    if len(num) == 9:\n",
    "        for n in range(len(num)):\n",
    "            nn = num[n]\n",
    "            if nn not in pan and nn != str(0):\n",
    "                pan.append(nn)\n",
    "            else:\n",
    "                break\n",
    "        \n",
    "        if len(pan) == 9:\n",
    "            return (True, int(c))\n",
    "        else:\n",
    "            return (False, 0)\n",
    "        \n",
    "    else:\n",
    "        return (False, 0)"
   ]
  },
  {
   "cell_type": "code",
   "execution_count": 3,
   "metadata": {},
   "outputs": [
    {
     "name": "stdout",
     "output_type": "stream",
     "text": [
      "48 159 7632\n"
     ]
    }
   ],
   "source": [
    "pan_list = []\n",
    "for a in range(2, 100):\n",
    "    for b in range(100, 100000):\n",
    "        str_a = str(a)\n",
    "        str_b = str(b)\n",
    "        if a // 10 != 0 and b // 10 != 0:\n",
    "            check, c = pandigital(a,b)\n",
    "            if check and c not in pan_list:\n",
    "                pan_list.append(c)\n",
    "                print(a, b, c)\n",
    "                clear_output(wait=True)"
   ]
  },
  {
   "cell_type": "code",
   "execution_count": 4,
   "metadata": {},
   "outputs": [
    {
     "name": "stdout",
     "output_type": "stream",
     "text": [
      "a x b  = c가 팬디지털이 되는 모든 c의 합은 30424\n"
     ]
    }
   ],
   "source": [
    "hap = 0\n",
    "for n in pan_list:\n",
    "    hap += n\n",
    "print(\"a x b  = c가 팬디지털이 되는 모든 c의 합은 {}\".format(hap))"
   ]
  },
  {
   "cell_type": "code",
   "execution_count": null,
   "metadata": {},
   "outputs": [],
   "source": []
  }
 ],
 "metadata": {
  "kernelspec": {
   "display_name": "Python 3",
   "language": "python",
   "name": "python3"
  },
  "language_info": {
   "codemirror_mode": {
    "name": "ipython",
    "version": 3
   },
   "file_extension": ".py",
   "mimetype": "text/x-python",
   "name": "python",
   "nbconvert_exporter": "python",
   "pygments_lexer": "ipython3",
   "version": "3.8.5"
  }
 },
 "nbformat": 4,
 "nbformat_minor": 4
}
