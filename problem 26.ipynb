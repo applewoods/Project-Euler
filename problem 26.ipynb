{
 "cells": [
  {
   "cell_type": "code",
   "execution_count": 1,
   "metadata": {},
   "outputs": [],
   "source": [
    "from decimal import *\n",
    "from IPython.display import clear_output"
   ]
  },
  {
   "cell_type": "code",
   "execution_count": 2,
   "metadata": {},
   "outputs": [],
   "source": [
    "def circular(number):\n",
    "    length = len(number)\n",
    "    \n",
    "    for i,n in enumerate(number):\n",
    "        end=int(number.find(n,i+1))\n",
    "        while end != -1 and end < length*0.5:\n",
    "            target = number[i:end]\n",
    "            target_len = end-i\n",
    "            test=number[end:end+target_len]\n",
    "            if target == test and number.count(target)*target_len > length*0.9:\n",
    "                return target\n",
    "            else :\n",
    "                end=int(number.find(n,end+1))"
   ]
  },
  {
   "cell_type": "code",
   "execution_count": 3,
   "metadata": {},
   "outputs": [
    {
     "name": "stdout",
     "output_type": "stream",
     "text": [
      "983 982\n"
     ]
    }
   ],
   "source": [
    "getcontext().prec = 2000\n",
    "max_length = 0\n",
    "\n",
    "for d in range(1,1000):\n",
    "    number=str(Decimal(1)/Decimal(d))\n",
    "    number=number[number.find(\".\")+1:]\n",
    "    cycle = circular(number)\n",
    "    if not cycle == None and len(cycle)>max_length:\n",
    "        max_length = len(cycle)\n",
    "        print(d,max_length)\n",
    "        clear_output(wait=True)"
   ]
  },
  {
   "cell_type": "code",
   "execution_count": null,
   "metadata": {},
   "outputs": [],
   "source": []
  }
 ],
 "metadata": {
  "kernelspec": {
   "display_name": "Python 3",
   "language": "python",
   "name": "python3"
  },
  "language_info": {
   "codemirror_mode": {
    "name": "ipython",
    "version": 3
   },
   "file_extension": ".py",
   "mimetype": "text/x-python",
   "name": "python",
   "nbconvert_exporter": "python",
   "pygments_lexer": "ipython3",
   "version": "3.8.5"
  }
 },
 "nbformat": 4,
 "nbformat_minor": 4
}
