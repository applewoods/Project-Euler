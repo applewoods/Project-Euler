{
 "cells": [
  {
   "cell_type": "code",
   "execution_count": 1,
   "metadata": {},
   "outputs": [],
   "source": [
    "def check_prime():\n",
    "    prime_number = []\n",
    "    count = 0\n",
    "    number = 2\n",
    "    while count != 10001:\n",
    "        for i in range(2, number+1):\n",
    "            if number % i == 0:\n",
    "                if i not in prime_number:\n",
    "                    prime_number.append(i)\n",
    "                break\n",
    "        \n",
    "        count = len(prime_number)\n",
    "        number += 1\n",
    "    return number - 1        "
   ]
  },
  {
   "cell_type": "code",
   "execution_count": 2,
   "metadata": {},
   "outputs": [
    {
     "name": "stdout",
     "output_type": "stream",
     "text": [
      "10,001번째의 소수는 104743\n"
     ]
    }
   ],
   "source": [
    "print(\"10,001번째의 소수는 {}\".format(check_prime()))"
   ]
  },
  {
   "cell_type": "code",
   "execution_count": null,
   "metadata": {},
   "outputs": [],
   "source": []
  }
 ],
 "metadata": {
  "kernelspec": {
   "display_name": "Python 3",
   "language": "python",
   "name": "python3"
  },
  "language_info": {
   "codemirror_mode": {
    "name": "ipython",
    "version": 3
   },
   "file_extension": ".py",
   "mimetype": "text/x-python",
   "name": "python",
   "nbconvert_exporter": "python",
   "pygments_lexer": "ipython3",
   "version": "3.8.5"
  }
 },
 "nbformat": 4,
 "nbformat_minor": 4
}
