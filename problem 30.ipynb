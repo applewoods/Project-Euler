{
 "cells": [
  {
   "cell_type": "code",
   "execution_count": 1,
   "metadata": {},
   "outputs": [],
   "source": [
    "def each_num_multi(num):\n",
    "    mul_num = 0\n",
    "    for i in str(num):\n",
    "        mul_num += int(i)**5\n",
    "    if mul_num == num:\n",
    "        return (True, num)\n",
    "    else:\n",
    "        return (False, num)"
   ]
  },
  {
   "cell_type": "code",
   "execution_count": 2,
   "metadata": {},
   "outputs": [],
   "source": [
    "list_num = []\n",
    "for i in range(2, 1000000):\n",
    "    check, num = each_num_multi(i)\n",
    "    if check:\n",
    "        list_num.append(num)"
   ]
  },
  {
   "cell_type": "code",
   "execution_count": 3,
   "metadata": {},
   "outputs": [
    {
     "data": {
      "text/plain": [
       "[4150, 4151, 54748, 92727, 93084, 194979]"
      ]
     },
     "execution_count": 3,
     "metadata": {},
     "output_type": "execute_result"
    }
   ],
   "source": [
    "list_num"
   ]
  },
  {
   "cell_type": "code",
   "execution_count": 4,
   "metadata": {},
   "outputs": [
    {
     "name": "stdout",
     "output_type": "stream",
     "text": [
      "5제곱해서 더했을 때 자기 자신이 나오는 숫자들의 모든 합은 443839\n"
     ]
    }
   ],
   "source": [
    "num_hap = 0\n",
    "for n in list_num:\n",
    "    num_hap += n\n",
    "print(\"5제곱해서 더했을 때 자기 자신이 나오는 숫자들의 모든 합은 {}\".format(num_hap))"
   ]
  },
  {
   "cell_type": "code",
   "execution_count": null,
   "metadata": {},
   "outputs": [],
   "source": []
  }
 ],
 "metadata": {
  "kernelspec": {
   "display_name": "Python 3",
   "language": "python",
   "name": "python3"
  },
  "language_info": {
   "codemirror_mode": {
    "name": "ipython",
    "version": 3
   },
   "file_extension": ".py",
   "mimetype": "text/x-python",
   "name": "python",
   "nbconvert_exporter": "python",
   "pygments_lexer": "ipython3",
   "version": "3.8.5"
  }
 },
 "nbformat": 4,
 "nbformat_minor": 4
}
