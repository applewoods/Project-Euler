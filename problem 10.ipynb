{
 "cells": [
  {
   "cell_type": "code",
   "execution_count": 1,
   "metadata": {},
   "outputs": [],
   "source": [
    "from IPython.display import clear_output"
   ]
  },
  {
   "cell_type": "code",
   "execution_count": 2,
   "metadata": {},
   "outputs": [],
   "source": [
    "def prime_number(num, prime):\n",
    "    prime_len  = len(prime)\n",
    "    check = True\n",
    "    for n in range(0, prime_len):\n",
    "        div = prime[n]\n",
    "        if num % div == 0:\n",
    "            check = False\n",
    "            break\n",
    "    if check:\n",
    "        prime.append(num)"
   ]
  },
  {
   "cell_type": "code",
   "execution_count": 3,
   "metadata": {},
   "outputs": [
    {
     "name": "stdout",
     "output_type": "stream",
     "text": [
      "2000000이하 소수의 합은 142913828922\n"
     ]
    }
   ],
   "source": [
    "answer = 0\n",
    "number = 2000000\n",
    "prime = []\n",
    "for n in range(2, number+1):\n",
    "    prime_number(n, prime)\n",
    "    if n % 1000 == 0:\n",
    "        print(\"현 위치: {}, 소수의 갯수: {}\".format(n, len(prime)))\n",
    "        clear_output(wait=True)\n",
    "    \n",
    "for num in prime:\n",
    "    answer += num\n",
    "    \n",
    "print(\"{0}이하 소수의 합은 {1}\".format(number, answer))"
   ]
  },
  {
   "cell_type": "code",
   "execution_count": null,
   "metadata": {},
   "outputs": [],
   "source": []
  }
 ],
 "metadata": {
  "kernelspec": {
   "display_name": "Python 3",
   "language": "python",
   "name": "python3"
  },
  "language_info": {
   "codemirror_mode": {
    "name": "ipython",
    "version": 3
   },
   "file_extension": ".py",
   "mimetype": "text/x-python",
   "name": "python",
   "nbconvert_exporter": "python",
   "pygments_lexer": "ipython3",
   "version": "3.8.5"
  }
 },
 "nbformat": 4,
 "nbformat_minor": 4
}
