{
 "metadata": {
  "language_info": {
   "codemirror_mode": {
    "name": "ipython",
    "version": 3
   },
   "file_extension": ".py",
   "mimetype": "text/x-python",
   "name": "python",
   "nbconvert_exporter": "python",
   "pygments_lexer": "ipython3",
   "version": "3.8.5-final"
  },
  "orig_nbformat": 2,
  "kernelspec": {
   "name": "python3",
   "display_name": "Python 3",
   "language": "python"
  }
 },
 "nbformat": 4,
 "nbformat_minor": 2,
 "cells": [
  {
   "cell_type": "code",
   "execution_count": 1,
   "metadata": {},
   "outputs": [],
   "source": [
    "def aliquot(num):                   # 약수를 구하는 함수\n",
    "    al = []\n",
    "    for i in range(1, num+1):\n",
    "        if num % i == 0:\n",
    "            num1 = i\n",
    "            num2 = num // i\n",
    "            if num2 not in al:\n",
    "                al.append(num1)\n",
    "                al.append(num2)\n",
    "            elif num2 in al:\n",
    "                break\n",
    "\n",
    "    return sorted(al)"
   ]
  },
  {
   "cell_type": "code",
   "execution_count": 2,
   "metadata": {},
   "outputs": [],
   "source": [
    "def hap(num_list):                  # 자신을 제외한 약수들의 합\n",
    "    hap = 0\n",
    "    for i in range(len(num_list)-1):\n",
    "        hap += num_list[i]\n",
    "\n",
    "    return hap"
   ]
  },
  {
   "cell_type": "code",
   "execution_count": 3,
   "metadata": {},
   "outputs": [],
   "source": [
    "def harmony_num(num):        # 친화수(우애수)를 구하는 함수\n",
    "    num1_har, num2_har = 0, 0\n",
    "    harmony = []\n",
    "    for i in range(2, num + 1):\n",
    "        num1 = aliquot(i)\n",
    "        num1_har = hap(num1)\n",
    "        num2 = aliquot(num1_har)\n",
    "        num2_har = hap(num2)\n",
    "        if num2_har == i:\n",
    "            if i != num1_har:\n",
    "                harmony.append(num1_har)\n",
    "                harmony.append(num2_har)   \n",
    "\n",
    "    return sorted(set(harmony))"
   ]
  },
  {
   "cell_type": "code",
   "execution_count": 4,
   "metadata": {},
   "outputs": [
    {
     "output_type": "stream",
     "name": "stdout",
     "text": [
      "[220, 284, 1184, 1210, 2620, 2924, 5020, 5564, 6232, 6368]\n"
     ]
    }
   ],
   "source": [
    "max_num = 10000\n",
    "hap_har = 0\n",
    "har = harmony_num(max_num)\n",
    "print(har)"
   ]
  },
  {
   "cell_type": "code",
   "execution_count": 5,
   "metadata": {},
   "outputs": [
    {
     "output_type": "stream",
     "name": "stdout",
     "text": [
      "10000이하의 친화수들의 모든 합은 31626\n"
     ]
    }
   ],
   "source": [
    "for num in har:\n",
    "    hap_har += int(num)\n",
    "print(\"{}이하의 친화수들의 모든 합은 {}\".format(max_num, hap_har))"
   ]
  },
  {
   "cell_type": "code",
   "execution_count": null,
   "metadata": {},
   "outputs": [],
   "source": []
  }
 ]
}