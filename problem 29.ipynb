{
 "cells": [
  {
   "cell_type": "code",
   "execution_count": 1,
   "metadata": {},
   "outputs": [],
   "source": [
    "def index_num(num_par, num_chi):\n",
    "    return num_par**num_chi"
   ]
  },
  {
   "cell_type": "code",
   "execution_count": 2,
   "metadata": {},
   "outputs": [],
   "source": [
    "index = []\n",
    "a_max = 100\n",
    "b_max = 100\n",
    "for a in range(2, a_max+1):\n",
    "    for b in range(2, b_max+1):\n",
    "        num = index_num(a,b)\n",
    "        if num not in index:\n",
    "            index.append(num)"
   ]
  },
  {
   "cell_type": "code",
   "execution_count": 3,
   "metadata": {},
   "outputs": [
    {
     "name": "stdout",
     "output_type": "stream",
     "text": [
      "a가 2이상 100이하, b가 2이상 100이하인 a,b를 가지고 만들 수 있는 a^b는 중복을 제외하고 모두 9183개 입니다.\n"
     ]
    }
   ],
   "source": [
    "print(\"a가 2이상 {}이하, b가 2이상 {}이하인 a,b를 가지고 만들 수 있는 a^b는 중복을 제외하고 모두 {}개 입니다.\".format(a_max, b_max, len(index)))"
   ]
  },
  {
   "cell_type": "code",
   "execution_count": null,
   "metadata": {},
   "outputs": [],
   "source": []
  }
 ],
 "metadata": {
  "kernelspec": {
   "display_name": "Python 3",
   "language": "python",
   "name": "python3"
  },
  "language_info": {
   "codemirror_mode": {
    "name": "ipython",
    "version": 3
   },
   "file_extension": ".py",
   "mimetype": "text/x-python",
   "name": "python",
   "nbconvert_exporter": "python",
   "pygments_lexer": "ipython3",
   "version": "3.8.5"
  }
 },
 "nbformat": 4,
 "nbformat_minor": 4
}
