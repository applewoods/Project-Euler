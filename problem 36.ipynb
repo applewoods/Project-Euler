{
 "cells": [
  {
   "cell_type": "code",
   "execution_count": 1,
   "metadata": {},
   "outputs": [],
   "source": [
    "def palindrome(num):\n",
    "    num = str(num)\n",
    "    re_num = num[::-1]\n",
    "    if num == re_num:\n",
    "        return True\n",
    "    else:\n",
    "        return False"
   ]
  },
  {
   "cell_type": "code",
   "execution_count": 2,
   "metadata": {},
   "outputs": [],
   "source": [
    "def binary_number(num):\n",
    "    return format(num, 'b')"
   ]
  },
  {
   "cell_type": "code",
   "execution_count": 3,
   "metadata": {},
   "outputs": [
    {
     "name": "stdout",
     "output_type": "stream",
     "text": [
      "10진법과 2진법으로 모두 대칭수인 1000000미만 수의 합은 872187\n"
     ]
    }
   ],
   "source": [
    "max_num = 1000000\n",
    "num_list = []\n",
    "num_hap = 0\n",
    "for n in range(1, max_num + 1):\n",
    "    if palindrome(n):\n",
    "        binary = binary_number(n)\n",
    "        if palindrome(binary):\n",
    "            num_list.append(n)\n",
    "\n",
    "for num in num_list:\n",
    "    num_hap += num\n",
    "    \n",
    "print(\"10진법과 2진법으로 모두 대칭수인 {}미만 수의 합은 {}\".format(max_num, num_hap))"
   ]
  },
  {
   "cell_type": "code",
   "execution_count": null,
   "metadata": {},
   "outputs": [],
   "source": []
  }
 ],
 "metadata": {
  "kernelspec": {
   "display_name": "Python 3",
   "language": "python",
   "name": "python3"
  },
  "language_info": {
   "codemirror_mode": {
    "name": "ipython",
    "version": 3
   },
   "file_extension": ".py",
   "mimetype": "text/x-python",
   "name": "python",
   "nbconvert_exporter": "python",
   "pygments_lexer": "ipython3",
   "version": "3.8.5"
  }
 },
 "nbformat": 4,
 "nbformat_minor": 4
}
