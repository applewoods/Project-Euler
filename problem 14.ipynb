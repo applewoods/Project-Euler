{
 "cells": [
  {
   "cell_type": "code",
   "execution_count": 1,
   "metadata": {},
   "outputs": [],
   "source": [
    "def function(num):\n",
    "    count = 1\n",
    "    pre_num = num\n",
    "    while num != 1:\n",
    "        if num % 2 == 0:\n",
    "            num = num / 2\n",
    "        else:\n",
    "            num = 3*num + 1\n",
    "        count += 1\n",
    "    return (count, pre_num)"
   ]
  },
  {
   "cell_type": "code",
   "execution_count": 2,
   "metadata": {},
   "outputs": [
    {
     "name": "stdout",
     "output_type": "stream",
     "text": [
      "1000000 이하의 수로 시작했을 때, 1까지 도달하는데 가장 긴 과정을 거치는 수는 837799\n"
     ]
    }
   ],
   "source": [
    "s_num = 1000000\n",
    "e_num = int(s_num * 0.75)\n",
    "re_num = 0\n",
    "result = 1\n",
    "for i in range(s_num, e_num, -1):\n",
    "    count, number = function(i)\n",
    "    if max(result, count) == count:\n",
    "        re_num = number\n",
    "        result = count\n",
    "print(\"{0} 이하의 수로 시작했을 때, 1까지 도달하는데 가장 긴 과정을 거치는 수는 {1}\".format(s_num, re_num))"
   ]
  },
  {
   "cell_type": "code",
   "execution_count": null,
   "metadata": {},
   "outputs": [],
   "source": []
  }
 ],
 "metadata": {
  "kernelspec": {
   "display_name": "Python 3",
   "language": "python",
   "name": "python3"
  },
  "language_info": {
   "codemirror_mode": {
    "name": "ipython",
    "version": 3
   },
   "file_extension": ".py",
   "mimetype": "text/x-python",
   "name": "python",
   "nbconvert_exporter": "python",
   "pygments_lexer": "ipython3",
   "version": "3.8.5"
  }
 },
 "nbformat": 4,
 "nbformat_minor": 4
}
