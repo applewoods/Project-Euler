{
 "cells": [
  {
   "cell_type": "code",
   "execution_count": 1,
   "metadata": {},
   "outputs": [],
   "source": [
    "num_max = 1\n",
    "div_num = 20"
   ]
  },
  {
   "cell_type": "code",
   "execution_count": 2,
   "metadata": {},
   "outputs": [],
   "source": [
    "def prime_number_in_div_num(div_num):\n",
    "    prime = []\n",
    "    for i in range(2, div_num+1):\n",
    "        for j in range(2, i+1):\n",
    "            if i % j == 0:\n",
    "                i = i / j\n",
    "                if j not in prime:\n",
    "                    prime.append(j)\n",
    "                break\n",
    "    return prime"
   ]
  },
  {
   "cell_type": "code",
   "execution_count": 3,
   "metadata": {},
   "outputs": [],
   "source": [
    "def dic_number_count(prime, div_num):\n",
    "    dic_number = {}\n",
    "    dic_number.clear()\n",
    "    for d in range(2, div_num+1):\n",
    "        for p in prime:\n",
    "            count = 0\n",
    "            while d % p == 0:\n",
    "                d = d / p\n",
    "                count += 1\n",
    "            if p in dic_number:\n",
    "                count = max([dic_number[p], count])\n",
    "                dic_number[p] = count\n",
    "            else:\n",
    "                dic_number[p] = count\n",
    "    return dic_number"
   ]
  },
  {
   "cell_type": "code",
   "execution_count": 4,
   "metadata": {},
   "outputs": [],
   "source": [
    "prime = prime_number_in_div_num(div_num)\n",
    "num_min = dic_number_count(prime, div_num)\n",
    "answer = 1\n",
    "for key, val in num_min.items():\n",
    "    answer *= key**val"
   ]
  },
  {
   "cell_type": "code",
   "execution_count": 5,
   "metadata": {},
   "outputs": [
    {
     "name": "stdout",
     "output_type": "stream",
     "text": [
      "1 ~ 20 사이의 어떤 수로도 나누어 떨어지는 가장 작은 수는 232792560입니다.\n"
     ]
    }
   ],
   "source": [
    "print(\"1 ~ {0} 사이의 어떤 수로도 나누어 떨어지는 가장 작은 수는 {1}입니다.\".format(div_num ,answer))"
   ]
  },
  {
   "cell_type": "code",
   "execution_count": null,
   "metadata": {},
   "outputs": [],
   "source": []
  }
 ],
 "metadata": {
  "kernelspec": {
   "display_name": "Python 3",
   "language": "python",
   "name": "python3"
  },
  "language_info": {
   "codemirror_mode": {
    "name": "ipython",
    "version": 3
   },
   "file_extension": ".py",
   "mimetype": "text/x-python",
   "name": "python",
   "nbconvert_exporter": "python",
   "pygments_lexer": "ipython3",
   "version": "3.8.5"
  }
 },
 "nbformat": 4,
 "nbformat_minor": 4
}
