{
 "cells": [
  {
   "cell_type": "code",
   "execution_count": 1,
   "metadata": {},
   "outputs": [],
   "source": [
    "def palindrome(num):\n",
    "    num = str(num)\n",
    "    if len(num) % 2 == 0:\n",
    "        f = num[:len(num)//2]\n",
    "        e = num[len(num)//2:]\n",
    "    else:\n",
    "        f = num[:len(num)//2]\n",
    "        e = num[len(num)+1//2:]\n",
    "    \n",
    "    if f == e[::-1]:\n",
    "        return True\n",
    "    else:\n",
    "        return False"
   ]
  },
  {
   "cell_type": "code",
   "execution_count": 2,
   "metadata": {},
   "outputs": [],
   "source": [
    "max_num = 999\n",
    "min_num = 100\n",
    "num_list = []\n",
    "for i in range(max_num, min_num-1, -1):\n",
    "    for j in range(i, min_num-1, -1):\n",
    "        number = i * j\n",
    "        if palindrome(number):\n",
    "            num_list.append(number)"
   ]
  },
  {
   "cell_type": "code",
   "execution_count": 3,
   "metadata": {},
   "outputs": [
    {
     "name": "stdout",
     "output_type": "stream",
     "text": [
      "세자리 수 중 가장 큰 대칭수는 906609\n"
     ]
    }
   ],
   "source": [
    "print(\"세자리 수 중 가장 큰 대칭수는 {}\".format(max(num_list)))"
   ]
  },
  {
   "cell_type": "code",
   "execution_count": null,
   "metadata": {},
   "outputs": [],
   "source": []
  }
 ],
 "metadata": {
  "kernelspec": {
   "display_name": "Python 3",
   "language": "python",
   "name": "python3"
  },
  "language_info": {
   "codemirror_mode": {
    "name": "ipython",
    "version": 3
   },
   "file_extension": ".py",
   "mimetype": "text/x-python",
   "name": "python",
   "nbconvert_exporter": "python",
   "pygments_lexer": "ipython3",
   "version": "3.8.5"
  }
 },
 "nbformat": 4,
 "nbformat_minor": 4
}
